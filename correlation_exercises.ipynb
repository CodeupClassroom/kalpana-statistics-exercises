{
 "cells": [
  {
   "cell_type": "code",
   "execution_count": 1,
   "metadata": {},
   "outputs": [],
   "source": [
    "from scipy import stats\n",
    "import pandas as pd\n",
    "import numpy as np\n",
    "import seaborn as sns"
   ]
  },
  {
   "cell_type": "code",
   "execution_count": 2,
   "metadata": {},
   "outputs": [
    {
     "data": {
      "text/html": [
       "<div>\n",
       "<style scoped>\n",
       "    .dataframe tbody tr th:only-of-type {\n",
       "        vertical-align: middle;\n",
       "    }\n",
       "\n",
       "    .dataframe tbody tr th {\n",
       "        vertical-align: top;\n",
       "    }\n",
       "\n",
       "    .dataframe thead th {\n",
       "        text-align: right;\n",
       "    }\n",
       "</style>\n",
       "<table border=\"1\" class=\"dataframe\">\n",
       "  <thead>\n",
       "    <tr style=\"text-align: right;\">\n",
       "      <th></th>\n",
       "      <th>customerID</th>\n",
       "      <th>gender</th>\n",
       "      <th>SeniorCitizen</th>\n",
       "      <th>Partner</th>\n",
       "      <th>Dependents</th>\n",
       "      <th>tenure</th>\n",
       "      <th>PhoneService</th>\n",
       "      <th>MultipleLines</th>\n",
       "      <th>InternetService</th>\n",
       "      <th>OnlineSecurity</th>\n",
       "      <th>...</th>\n",
       "      <th>DeviceProtection</th>\n",
       "      <th>TechSupport</th>\n",
       "      <th>StreamingTV</th>\n",
       "      <th>StreamingMovies</th>\n",
       "      <th>Contract</th>\n",
       "      <th>PaperlessBilling</th>\n",
       "      <th>PaymentMethod</th>\n",
       "      <th>MonthlyCharges</th>\n",
       "      <th>TotalCharges</th>\n",
       "      <th>Churn</th>\n",
       "    </tr>\n",
       "  </thead>\n",
       "  <tbody>\n",
       "    <tr>\n",
       "      <th>0</th>\n",
       "      <td>7590-VHVEG</td>\n",
       "      <td>Female</td>\n",
       "      <td>0</td>\n",
       "      <td>Yes</td>\n",
       "      <td>No</td>\n",
       "      <td>1</td>\n",
       "      <td>No</td>\n",
       "      <td>No phone service</td>\n",
       "      <td>DSL</td>\n",
       "      <td>No</td>\n",
       "      <td>...</td>\n",
       "      <td>No</td>\n",
       "      <td>No</td>\n",
       "      <td>No</td>\n",
       "      <td>No</td>\n",
       "      <td>Month-to-month</td>\n",
       "      <td>Yes</td>\n",
       "      <td>Electronic check</td>\n",
       "      <td>29.85</td>\n",
       "      <td>29.85</td>\n",
       "      <td>No</td>\n",
       "    </tr>\n",
       "    <tr>\n",
       "      <th>1</th>\n",
       "      <td>5575-GNVDE</td>\n",
       "      <td>Male</td>\n",
       "      <td>0</td>\n",
       "      <td>No</td>\n",
       "      <td>No</td>\n",
       "      <td>34</td>\n",
       "      <td>Yes</td>\n",
       "      <td>No</td>\n",
       "      <td>DSL</td>\n",
       "      <td>Yes</td>\n",
       "      <td>...</td>\n",
       "      <td>Yes</td>\n",
       "      <td>No</td>\n",
       "      <td>No</td>\n",
       "      <td>No</td>\n",
       "      <td>One year</td>\n",
       "      <td>No</td>\n",
       "      <td>Mailed check</td>\n",
       "      <td>56.95</td>\n",
       "      <td>1889.5</td>\n",
       "      <td>No</td>\n",
       "    </tr>\n",
       "    <tr>\n",
       "      <th>2</th>\n",
       "      <td>3668-QPYBK</td>\n",
       "      <td>Male</td>\n",
       "      <td>0</td>\n",
       "      <td>No</td>\n",
       "      <td>No</td>\n",
       "      <td>2</td>\n",
       "      <td>Yes</td>\n",
       "      <td>No</td>\n",
       "      <td>DSL</td>\n",
       "      <td>Yes</td>\n",
       "      <td>...</td>\n",
       "      <td>No</td>\n",
       "      <td>No</td>\n",
       "      <td>No</td>\n",
       "      <td>No</td>\n",
       "      <td>Month-to-month</td>\n",
       "      <td>Yes</td>\n",
       "      <td>Mailed check</td>\n",
       "      <td>53.85</td>\n",
       "      <td>108.15</td>\n",
       "      <td>Yes</td>\n",
       "    </tr>\n",
       "    <tr>\n",
       "      <th>3</th>\n",
       "      <td>7795-CFOCW</td>\n",
       "      <td>Male</td>\n",
       "      <td>0</td>\n",
       "      <td>No</td>\n",
       "      <td>No</td>\n",
       "      <td>45</td>\n",
       "      <td>No</td>\n",
       "      <td>No phone service</td>\n",
       "      <td>DSL</td>\n",
       "      <td>Yes</td>\n",
       "      <td>...</td>\n",
       "      <td>Yes</td>\n",
       "      <td>Yes</td>\n",
       "      <td>No</td>\n",
       "      <td>No</td>\n",
       "      <td>One year</td>\n",
       "      <td>No</td>\n",
       "      <td>Bank transfer (automatic)</td>\n",
       "      <td>42.30</td>\n",
       "      <td>1840.75</td>\n",
       "      <td>No</td>\n",
       "    </tr>\n",
       "  </tbody>\n",
       "</table>\n",
       "<p>4 rows × 21 columns</p>\n",
       "</div>"
      ],
      "text/plain": [
       "   customerID  gender  SeniorCitizen Partner Dependents  tenure PhoneService  \\\n",
       "0  7590-VHVEG  Female              0     Yes         No       1           No   \n",
       "1  5575-GNVDE    Male              0      No         No      34          Yes   \n",
       "2  3668-QPYBK    Male              0      No         No       2          Yes   \n",
       "3  7795-CFOCW    Male              0      No         No      45           No   \n",
       "\n",
       "      MultipleLines InternetService OnlineSecurity  ... DeviceProtection  \\\n",
       "0  No phone service             DSL             No  ...               No   \n",
       "1                No             DSL            Yes  ...              Yes   \n",
       "2                No             DSL            Yes  ...               No   \n",
       "3  No phone service             DSL            Yes  ...              Yes   \n",
       "\n",
       "  TechSupport StreamingTV StreamingMovies        Contract PaperlessBilling  \\\n",
       "0          No          No              No  Month-to-month              Yes   \n",
       "1          No          No              No        One year               No   \n",
       "2          No          No              No  Month-to-month              Yes   \n",
       "3         Yes          No              No        One year               No   \n",
       "\n",
       "               PaymentMethod MonthlyCharges  TotalCharges Churn  \n",
       "0           Electronic check          29.85         29.85    No  \n",
       "1               Mailed check          56.95        1889.5    No  \n",
       "2               Mailed check          53.85        108.15   Yes  \n",
       "3  Bank transfer (automatic)          42.30       1840.75    No  \n",
       "\n",
       "[4 rows x 21 columns]"
      ]
     },
     "execution_count": 2,
     "metadata": {},
     "output_type": "execute_result"
    }
   ],
   "source": [
    "# url = \"https://gist.githubusercontent.com/ryanorsinger/3fce5a65b5fb8ab728af5192c7de857e/raw/a0422b7b73749842611742a1064e99088a47917d/clean_telco.csv\"\n",
    "# df = pd.read_csv(url, index_col=\"id\")\n",
    "df = pd.read_csv('telco_churn.csv')\n",
    "df.head(4)"
   ]
  },
  {
   "cell_type": "code",
   "execution_count": 3,
   "metadata": {},
   "outputs": [
    {
     "name": "stdout",
     "output_type": "stream",
     "text": [
      "<class 'pandas.core.frame.DataFrame'>\n",
      "RangeIndex: 7043 entries, 0 to 7042\n",
      "Data columns (total 21 columns):\n",
      " #   Column            Non-Null Count  Dtype  \n",
      "---  ------            --------------  -----  \n",
      " 0   customerID        7043 non-null   object \n",
      " 1   gender            7043 non-null   object \n",
      " 2   SeniorCitizen     7043 non-null   int64  \n",
      " 3   Partner           7043 non-null   object \n",
      " 4   Dependents        7043 non-null   object \n",
      " 5   tenure            7043 non-null   int64  \n",
      " 6   PhoneService      7043 non-null   object \n",
      " 7   MultipleLines     7043 non-null   object \n",
      " 8   InternetService   7043 non-null   object \n",
      " 9   OnlineSecurity    7043 non-null   object \n",
      " 10  OnlineBackup      7043 non-null   object \n",
      " 11  DeviceProtection  7043 non-null   object \n",
      " 12  TechSupport       7043 non-null   object \n",
      " 13  StreamingTV       7043 non-null   object \n",
      " 14  StreamingMovies   7043 non-null   object \n",
      " 15  Contract          7043 non-null   object \n",
      " 16  PaperlessBilling  7043 non-null   object \n",
      " 17  PaymentMethod     7043 non-null   object \n",
      " 18  MonthlyCharges    7043 non-null   float64\n",
      " 19  TotalCharges      7043 non-null   object \n",
      " 20  Churn             7043 non-null   object \n",
      "dtypes: float64(1), int64(2), object(18)\n",
      "memory usage: 1.1+ MB\n"
     ]
    }
   ],
   "source": [
    "df.info()"
   ]
  },
  {
   "cell_type": "code",
   "execution_count": 4,
   "metadata": {},
   "outputs": [],
   "source": [
    "# do some data cleaning for TotalCharges column\n",
    "\n",
    "# remove any leading or trailing whitespaces\n",
    "# df['TotalCharges'] = df['TotalCharges'].str.strip()\n",
    "\n",
    "# replace spaces with NaNs\n",
    "df = df.replace(r'^\\s*$', np.nan, regex=True)\n",
    "\n",
    "# drop NaNs from data\n",
    "df = df.dropna()\n",
    "\n",
    "# convert from object to float\n",
    "df.TotalCharges = df.TotalCharges.astype(float)"
   ]
  },
  {
   "cell_type": "code",
   "execution_count": 5,
   "metadata": {},
   "outputs": [
    {
     "data": {
      "text/html": [
       "<div>\n",
       "<style scoped>\n",
       "    .dataframe tbody tr th:only-of-type {\n",
       "        vertical-align: middle;\n",
       "    }\n",
       "\n",
       "    .dataframe tbody tr th {\n",
       "        vertical-align: top;\n",
       "    }\n",
       "\n",
       "    .dataframe thead th {\n",
       "        text-align: right;\n",
       "    }\n",
       "</style>\n",
       "<table border=\"1\" class=\"dataframe\">\n",
       "  <thead>\n",
       "    <tr style=\"text-align: right;\">\n",
       "      <th></th>\n",
       "      <th>0</th>\n",
       "      <th>1</th>\n",
       "      <th>2</th>\n",
       "      <th>3</th>\n",
       "    </tr>\n",
       "  </thead>\n",
       "  <tbody>\n",
       "    <tr>\n",
       "      <th>customerID</th>\n",
       "      <td>7590-VHVEG</td>\n",
       "      <td>5575-GNVDE</td>\n",
       "      <td>3668-QPYBK</td>\n",
       "      <td>7795-CFOCW</td>\n",
       "    </tr>\n",
       "    <tr>\n",
       "      <th>gender</th>\n",
       "      <td>Female</td>\n",
       "      <td>Male</td>\n",
       "      <td>Male</td>\n",
       "      <td>Male</td>\n",
       "    </tr>\n",
       "    <tr>\n",
       "      <th>SeniorCitizen</th>\n",
       "      <td>0</td>\n",
       "      <td>0</td>\n",
       "      <td>0</td>\n",
       "      <td>0</td>\n",
       "    </tr>\n",
       "    <tr>\n",
       "      <th>Partner</th>\n",
       "      <td>Yes</td>\n",
       "      <td>No</td>\n",
       "      <td>No</td>\n",
       "      <td>No</td>\n",
       "    </tr>\n",
       "    <tr>\n",
       "      <th>Dependents</th>\n",
       "      <td>No</td>\n",
       "      <td>No</td>\n",
       "      <td>No</td>\n",
       "      <td>No</td>\n",
       "    </tr>\n",
       "    <tr>\n",
       "      <th>tenure</th>\n",
       "      <td>1</td>\n",
       "      <td>34</td>\n",
       "      <td>2</td>\n",
       "      <td>45</td>\n",
       "    </tr>\n",
       "    <tr>\n",
       "      <th>PhoneService</th>\n",
       "      <td>No</td>\n",
       "      <td>Yes</td>\n",
       "      <td>Yes</td>\n",
       "      <td>No</td>\n",
       "    </tr>\n",
       "    <tr>\n",
       "      <th>MultipleLines</th>\n",
       "      <td>No phone service</td>\n",
       "      <td>No</td>\n",
       "      <td>No</td>\n",
       "      <td>No phone service</td>\n",
       "    </tr>\n",
       "    <tr>\n",
       "      <th>InternetService</th>\n",
       "      <td>DSL</td>\n",
       "      <td>DSL</td>\n",
       "      <td>DSL</td>\n",
       "      <td>DSL</td>\n",
       "    </tr>\n",
       "    <tr>\n",
       "      <th>OnlineSecurity</th>\n",
       "      <td>No</td>\n",
       "      <td>Yes</td>\n",
       "      <td>Yes</td>\n",
       "      <td>Yes</td>\n",
       "    </tr>\n",
       "    <tr>\n",
       "      <th>OnlineBackup</th>\n",
       "      <td>Yes</td>\n",
       "      <td>No</td>\n",
       "      <td>Yes</td>\n",
       "      <td>No</td>\n",
       "    </tr>\n",
       "    <tr>\n",
       "      <th>DeviceProtection</th>\n",
       "      <td>No</td>\n",
       "      <td>Yes</td>\n",
       "      <td>No</td>\n",
       "      <td>Yes</td>\n",
       "    </tr>\n",
       "    <tr>\n",
       "      <th>TechSupport</th>\n",
       "      <td>No</td>\n",
       "      <td>No</td>\n",
       "      <td>No</td>\n",
       "      <td>Yes</td>\n",
       "    </tr>\n",
       "    <tr>\n",
       "      <th>StreamingTV</th>\n",
       "      <td>No</td>\n",
       "      <td>No</td>\n",
       "      <td>No</td>\n",
       "      <td>No</td>\n",
       "    </tr>\n",
       "    <tr>\n",
       "      <th>StreamingMovies</th>\n",
       "      <td>No</td>\n",
       "      <td>No</td>\n",
       "      <td>No</td>\n",
       "      <td>No</td>\n",
       "    </tr>\n",
       "    <tr>\n",
       "      <th>Contract</th>\n",
       "      <td>Month-to-month</td>\n",
       "      <td>One year</td>\n",
       "      <td>Month-to-month</td>\n",
       "      <td>One year</td>\n",
       "    </tr>\n",
       "    <tr>\n",
       "      <th>PaperlessBilling</th>\n",
       "      <td>Yes</td>\n",
       "      <td>No</td>\n",
       "      <td>Yes</td>\n",
       "      <td>No</td>\n",
       "    </tr>\n",
       "    <tr>\n",
       "      <th>PaymentMethod</th>\n",
       "      <td>Electronic check</td>\n",
       "      <td>Mailed check</td>\n",
       "      <td>Mailed check</td>\n",
       "      <td>Bank transfer (automatic)</td>\n",
       "    </tr>\n",
       "    <tr>\n",
       "      <th>MonthlyCharges</th>\n",
       "      <td>29.85</td>\n",
       "      <td>56.95</td>\n",
       "      <td>53.85</td>\n",
       "      <td>42.3</td>\n",
       "    </tr>\n",
       "    <tr>\n",
       "      <th>TotalCharges</th>\n",
       "      <td>29.85</td>\n",
       "      <td>1889.5</td>\n",
       "      <td>108.15</td>\n",
       "      <td>1840.75</td>\n",
       "    </tr>\n",
       "    <tr>\n",
       "      <th>Churn</th>\n",
       "      <td>No</td>\n",
       "      <td>No</td>\n",
       "      <td>Yes</td>\n",
       "      <td>No</td>\n",
       "    </tr>\n",
       "  </tbody>\n",
       "</table>\n",
       "</div>"
      ],
      "text/plain": [
       "                                 0             1               2  \\\n",
       "customerID              7590-VHVEG    5575-GNVDE      3668-QPYBK   \n",
       "gender                      Female          Male            Male   \n",
       "SeniorCitizen                    0             0               0   \n",
       "Partner                        Yes            No              No   \n",
       "Dependents                      No            No              No   \n",
       "tenure                           1            34               2   \n",
       "PhoneService                    No           Yes             Yes   \n",
       "MultipleLines     No phone service            No              No   \n",
       "InternetService                DSL           DSL             DSL   \n",
       "OnlineSecurity                  No           Yes             Yes   \n",
       "OnlineBackup                   Yes            No             Yes   \n",
       "DeviceProtection                No           Yes              No   \n",
       "TechSupport                     No            No              No   \n",
       "StreamingTV                     No            No              No   \n",
       "StreamingMovies                 No            No              No   \n",
       "Contract            Month-to-month      One year  Month-to-month   \n",
       "PaperlessBilling               Yes            No             Yes   \n",
       "PaymentMethod     Electronic check  Mailed check    Mailed check   \n",
       "MonthlyCharges               29.85         56.95           53.85   \n",
       "TotalCharges                 29.85        1889.5          108.15   \n",
       "Churn                           No            No             Yes   \n",
       "\n",
       "                                          3  \n",
       "customerID                       7795-CFOCW  \n",
       "gender                                 Male  \n",
       "SeniorCitizen                             0  \n",
       "Partner                                  No  \n",
       "Dependents                               No  \n",
       "tenure                                   45  \n",
       "PhoneService                             No  \n",
       "MultipleLines              No phone service  \n",
       "InternetService                         DSL  \n",
       "OnlineSecurity                          Yes  \n",
       "OnlineBackup                             No  \n",
       "DeviceProtection                        Yes  \n",
       "TechSupport                             Yes  \n",
       "StreamingTV                              No  \n",
       "StreamingMovies                          No  \n",
       "Contract                           One year  \n",
       "PaperlessBilling                         No  \n",
       "PaymentMethod     Bank transfer (automatic)  \n",
       "MonthlyCharges                         42.3  \n",
       "TotalCharges                        1840.75  \n",
       "Churn                                    No  "
      ]
     },
     "execution_count": 5,
     "metadata": {},
     "output_type": "execute_result"
    }
   ],
   "source": [
    "df.head(4).T\n"
   ]
  },
  {
   "cell_type": "code",
   "execution_count": null,
   "metadata": {},
   "outputs": [],
   "source": [
    "# pd.set_option('display.max_columns', None)"
   ]
  },
  {
   "cell_type": "markdown",
   "metadata": {},
   "source": [
    "## Exercise 1\n",
    "\n",
    "Use the telco_churn data. Does tenure correlate with monthly charges? Total charges?\n",
    "\n",
    "What happens if you control for phone and internet service?\n",
    "\n",
    "- $H_o$: tenure and monthly charges are not linearly correlated\n",
    "- $H_a$: tenure and monthly charges are linearly correlated\n",
    "\n",
    "then\n",
    "\n",
    "- $H_o$: tenure and total charges are not linearly correlated\n",
    "- $H_a$: tenure and total charges are linearly correlated\n",
    "\n",
    "then\n",
    "\n",
    "Control for Phone and Internet Service"
   ]
  },
  {
   "cell_type": "code",
   "execution_count": 6,
   "metadata": {},
   "outputs": [
    {
     "data": {
      "text/plain": [
       "0.050000000000000044"
      ]
     },
     "execution_count": 6,
     "metadata": {},
     "output_type": "execute_result"
    }
   ],
   "source": [
    "confidence_level = 0.95\n",
    "alpha = 1 - confidence_level\n",
    "alpha"
   ]
  },
  {
   "cell_type": "code",
   "execution_count": 7,
   "metadata": {},
   "outputs": [
    {
     "name": "stdout",
     "output_type": "stream",
     "text": [
      "We reject the null hypothesis\n"
     ]
    },
    {
     "data": {
      "text/plain": [
       "(0.24686176664089568, 3.9898213232510553e-98)"
      ]
     },
     "execution_count": 7,
     "metadata": {},
     "output_type": "execute_result"
    }
   ],
   "source": [
    "# 𝐻𝑜 : tenure and monthly charges are not linearly correlated\n",
    "# 𝐻𝑎 : tenure and monthly charges are linearly correlated\n",
    "\n",
    "corr, p = stats.pearsonr(df.tenure, df.MonthlyCharges)\n",
    "\n",
    "if p < alpha:\n",
    "    print(\"We reject the null hypothesis\")\n",
    "else:\n",
    "    print(\"We fail to reject the null hypothesis\")\n",
    "    \n",
    "corr, p"
   ]
  },
  {
   "cell_type": "code",
   "execution_count": 8,
   "metadata": {},
   "outputs": [
    {
     "name": "stdout",
     "output_type": "stream",
     "text": [
      "We reject the null hypothesis\n"
     ]
    },
    {
     "data": {
      "text/plain": [
       "(0.8258804609332093, 0.0)"
      ]
     },
     "execution_count": 8,
     "metadata": {},
     "output_type": "execute_result"
    }
   ],
   "source": [
    "# 𝐻𝑜 : tenure and total charges are not linearly correlated\n",
    "# 𝐻𝑎 : tenure and total charges are linearly correlated\n",
    "\n",
    "corr, p = stats.pearsonr(df.tenure, df.TotalCharges)\n",
    "\n",
    "if p < alpha:\n",
    "    print(\"We reject the null hypothesis\")\n",
    "else:\n",
    "    print(\"We fail to reject the null hypothesis\")\n",
    "    \n",
    "corr, p"
   ]
  },
  {
   "cell_type": "code",
   "execution_count": 9,
   "metadata": {},
   "outputs": [],
   "source": [
    "def correlation_test(x, y):\n",
    "    message = \"\"\n",
    "    corr, p = stats.pearsonr(x, y)\n",
    "    \n",
    "    if p < alpha:\n",
    "        message = \"reject the null hypothesis that there is no linear correlation. Evidence supports a linear correlation.\" \n",
    "    else:\n",
    "        message = \"fail to reject the null hypothesis that there is no linear correlation. Insufficient evidence to support a linear correlation between the two values.\"\n",
    "    \n",
    "    return corr, p, message"
   ]
  },
  {
   "cell_type": "markdown",
   "metadata": {},
   "source": [
    "### How to Control for Variables\n",
    "- Perform your original analysis in a way that removes the variable we're trying to control out of the question.\n",
    "- If we control for phone service, and test for linear correlation between `tenure` and `monthly_charges`, then we will create a `no_phone` and a `phone` group then check their `tenure` to `monthly_charges` correlation w/ the Pearson's test\n",
    "- If we also control for internet connection, we'll need to produce each pairing of subsets"
   ]
  },
  {
   "cell_type": "code",
   "execution_count": null,
   "metadata": {},
   "outputs": [],
   "source": [
    "df.columns"
   ]
  },
  {
   "cell_type": "code",
   "execution_count": 10,
   "metadata": {},
   "outputs": [],
   "source": [
    "df['phone_type'] = np.where(df.PhoneService == 'No', 'No Phone Service', np.where(((df.PhoneService == 'Yes') & (df.MultipleLines == 'No')), 'One Line','Two or More Lines'))"
   ]
  },
  {
   "cell_type": "code",
   "execution_count": 11,
   "metadata": {},
   "outputs": [
    {
     "data": {
      "text/plain": [
       "One Line             3385\n",
       "Two or More Lines    2967\n",
       "No Phone Service      680\n",
       "Name: phone_type, dtype: int64"
      ]
     },
     "execution_count": 11,
     "metadata": {},
     "output_type": "execute_result"
    }
   ],
   "source": [
    "# We'll run a correlation test for \n",
    "df.phone_type.value_counts()"
   ]
  },
  {
   "cell_type": "code",
   "execution_count": 12,
   "metadata": {},
   "outputs": [
    {
     "data": {
      "text/plain": [
       "Fiber optic    3096\n",
       "DSL            2416\n",
       "No             1520\n",
       "Name: InternetService, dtype: int64"
      ]
     },
     "execution_count": 12,
     "metadata": {},
     "output_type": "execute_result"
    }
   ],
   "source": [
    "df.InternetService.value_counts()"
   ]
  },
  {
   "cell_type": "code",
   "execution_count": 13,
   "metadata": {},
   "outputs": [],
   "source": [
    "df['InternetService'] = df.InternetService.replace('No', 'No Internet')"
   ]
  },
  {
   "cell_type": "code",
   "execution_count": null,
   "metadata": {},
   "outputs": [],
   "source": [
    "df[df.phone_type == 'One Line']"
   ]
  },
  {
   "cell_type": "code",
   "execution_count": 14,
   "metadata": {},
   "outputs": [
    {
     "data": {
      "text/html": [
       "<div>\n",
       "<style scoped>\n",
       "    .dataframe tbody tr th:only-of-type {\n",
       "        vertical-align: middle;\n",
       "    }\n",
       "\n",
       "    .dataframe tbody tr th {\n",
       "        vertical-align: top;\n",
       "    }\n",
       "\n",
       "    .dataframe thead th {\n",
       "        text-align: right;\n",
       "    }\n",
       "</style>\n",
       "<table border=\"1\" class=\"dataframe\">\n",
       "  <thead>\n",
       "    <tr style=\"text-align: right;\">\n",
       "      <th></th>\n",
       "      <th>0</th>\n",
       "      <th>1</th>\n",
       "      <th>2</th>\n",
       "      <th>3</th>\n",
       "      <th>4</th>\n",
       "    </tr>\n",
       "  </thead>\n",
       "  <tbody>\n",
       "    <tr>\n",
       "      <th>customerID</th>\n",
       "      <td>7590-VHVEG</td>\n",
       "      <td>5575-GNVDE</td>\n",
       "      <td>3668-QPYBK</td>\n",
       "      <td>7795-CFOCW</td>\n",
       "      <td>9237-HQITU</td>\n",
       "    </tr>\n",
       "    <tr>\n",
       "      <th>gender</th>\n",
       "      <td>Female</td>\n",
       "      <td>Male</td>\n",
       "      <td>Male</td>\n",
       "      <td>Male</td>\n",
       "      <td>Female</td>\n",
       "    </tr>\n",
       "    <tr>\n",
       "      <th>SeniorCitizen</th>\n",
       "      <td>0</td>\n",
       "      <td>0</td>\n",
       "      <td>0</td>\n",
       "      <td>0</td>\n",
       "      <td>0</td>\n",
       "    </tr>\n",
       "    <tr>\n",
       "      <th>Partner</th>\n",
       "      <td>Yes</td>\n",
       "      <td>No</td>\n",
       "      <td>No</td>\n",
       "      <td>No</td>\n",
       "      <td>No</td>\n",
       "    </tr>\n",
       "    <tr>\n",
       "      <th>Dependents</th>\n",
       "      <td>No</td>\n",
       "      <td>No</td>\n",
       "      <td>No</td>\n",
       "      <td>No</td>\n",
       "      <td>No</td>\n",
       "    </tr>\n",
       "    <tr>\n",
       "      <th>tenure</th>\n",
       "      <td>1</td>\n",
       "      <td>34</td>\n",
       "      <td>2</td>\n",
       "      <td>45</td>\n",
       "      <td>2</td>\n",
       "    </tr>\n",
       "    <tr>\n",
       "      <th>PhoneService</th>\n",
       "      <td>No</td>\n",
       "      <td>Yes</td>\n",
       "      <td>Yes</td>\n",
       "      <td>No</td>\n",
       "      <td>Yes</td>\n",
       "    </tr>\n",
       "    <tr>\n",
       "      <th>MultipleLines</th>\n",
       "      <td>No phone service</td>\n",
       "      <td>No</td>\n",
       "      <td>No</td>\n",
       "      <td>No phone service</td>\n",
       "      <td>No</td>\n",
       "    </tr>\n",
       "    <tr>\n",
       "      <th>InternetService</th>\n",
       "      <td>DSL</td>\n",
       "      <td>DSL</td>\n",
       "      <td>DSL</td>\n",
       "      <td>DSL</td>\n",
       "      <td>Fiber optic</td>\n",
       "    </tr>\n",
       "    <tr>\n",
       "      <th>OnlineSecurity</th>\n",
       "      <td>No</td>\n",
       "      <td>Yes</td>\n",
       "      <td>Yes</td>\n",
       "      <td>Yes</td>\n",
       "      <td>No</td>\n",
       "    </tr>\n",
       "    <tr>\n",
       "      <th>OnlineBackup</th>\n",
       "      <td>Yes</td>\n",
       "      <td>No</td>\n",
       "      <td>Yes</td>\n",
       "      <td>No</td>\n",
       "      <td>No</td>\n",
       "    </tr>\n",
       "    <tr>\n",
       "      <th>DeviceProtection</th>\n",
       "      <td>No</td>\n",
       "      <td>Yes</td>\n",
       "      <td>No</td>\n",
       "      <td>Yes</td>\n",
       "      <td>No</td>\n",
       "    </tr>\n",
       "    <tr>\n",
       "      <th>TechSupport</th>\n",
       "      <td>No</td>\n",
       "      <td>No</td>\n",
       "      <td>No</td>\n",
       "      <td>Yes</td>\n",
       "      <td>No</td>\n",
       "    </tr>\n",
       "    <tr>\n",
       "      <th>StreamingTV</th>\n",
       "      <td>No</td>\n",
       "      <td>No</td>\n",
       "      <td>No</td>\n",
       "      <td>No</td>\n",
       "      <td>No</td>\n",
       "    </tr>\n",
       "    <tr>\n",
       "      <th>StreamingMovies</th>\n",
       "      <td>No</td>\n",
       "      <td>No</td>\n",
       "      <td>No</td>\n",
       "      <td>No</td>\n",
       "      <td>No</td>\n",
       "    </tr>\n",
       "    <tr>\n",
       "      <th>Contract</th>\n",
       "      <td>Month-to-month</td>\n",
       "      <td>One year</td>\n",
       "      <td>Month-to-month</td>\n",
       "      <td>One year</td>\n",
       "      <td>Month-to-month</td>\n",
       "    </tr>\n",
       "    <tr>\n",
       "      <th>PaperlessBilling</th>\n",
       "      <td>Yes</td>\n",
       "      <td>No</td>\n",
       "      <td>Yes</td>\n",
       "      <td>No</td>\n",
       "      <td>Yes</td>\n",
       "    </tr>\n",
       "    <tr>\n",
       "      <th>PaymentMethod</th>\n",
       "      <td>Electronic check</td>\n",
       "      <td>Mailed check</td>\n",
       "      <td>Mailed check</td>\n",
       "      <td>Bank transfer (automatic)</td>\n",
       "      <td>Electronic check</td>\n",
       "    </tr>\n",
       "    <tr>\n",
       "      <th>MonthlyCharges</th>\n",
       "      <td>29.85</td>\n",
       "      <td>56.95</td>\n",
       "      <td>53.85</td>\n",
       "      <td>42.3</td>\n",
       "      <td>70.7</td>\n",
       "    </tr>\n",
       "    <tr>\n",
       "      <th>TotalCharges</th>\n",
       "      <td>29.85</td>\n",
       "      <td>1889.5</td>\n",
       "      <td>108.15</td>\n",
       "      <td>1840.75</td>\n",
       "      <td>151.65</td>\n",
       "    </tr>\n",
       "    <tr>\n",
       "      <th>Churn</th>\n",
       "      <td>No</td>\n",
       "      <td>No</td>\n",
       "      <td>Yes</td>\n",
       "      <td>No</td>\n",
       "      <td>Yes</td>\n",
       "    </tr>\n",
       "    <tr>\n",
       "      <th>phone_type</th>\n",
       "      <td>No Phone Service</td>\n",
       "      <td>One Line</td>\n",
       "      <td>One Line</td>\n",
       "      <td>No Phone Service</td>\n",
       "      <td>One Line</td>\n",
       "    </tr>\n",
       "    <tr>\n",
       "      <th>telecom_setup</th>\n",
       "      <td>DSL No Phone Service</td>\n",
       "      <td>DSL One Line</td>\n",
       "      <td>DSL One Line</td>\n",
       "      <td>DSL No Phone Service</td>\n",
       "      <td>Fiber optic One Line</td>\n",
       "    </tr>\n",
       "  </tbody>\n",
       "</table>\n",
       "</div>"
      ],
      "text/plain": [
       "                                     0             1               2  \\\n",
       "customerID                  7590-VHVEG    5575-GNVDE      3668-QPYBK   \n",
       "gender                          Female          Male            Male   \n",
       "SeniorCitizen                        0             0               0   \n",
       "Partner                            Yes            No              No   \n",
       "Dependents                          No            No              No   \n",
       "tenure                               1            34               2   \n",
       "PhoneService                        No           Yes             Yes   \n",
       "MultipleLines         No phone service            No              No   \n",
       "InternetService                    DSL           DSL             DSL   \n",
       "OnlineSecurity                      No           Yes             Yes   \n",
       "OnlineBackup                       Yes            No             Yes   \n",
       "DeviceProtection                    No           Yes              No   \n",
       "TechSupport                         No            No              No   \n",
       "StreamingTV                         No            No              No   \n",
       "StreamingMovies                     No            No              No   \n",
       "Contract                Month-to-month      One year  Month-to-month   \n",
       "PaperlessBilling                   Yes            No             Yes   \n",
       "PaymentMethod         Electronic check  Mailed check    Mailed check   \n",
       "MonthlyCharges                   29.85         56.95           53.85   \n",
       "TotalCharges                     29.85        1889.5          108.15   \n",
       "Churn                               No            No             Yes   \n",
       "phone_type            No Phone Service      One Line        One Line   \n",
       "telecom_setup     DSL No Phone Service  DSL One Line    DSL One Line   \n",
       "\n",
       "                                          3                     4  \n",
       "customerID                       7795-CFOCW            9237-HQITU  \n",
       "gender                                 Male                Female  \n",
       "SeniorCitizen                             0                     0  \n",
       "Partner                                  No                    No  \n",
       "Dependents                               No                    No  \n",
       "tenure                                   45                     2  \n",
       "PhoneService                             No                   Yes  \n",
       "MultipleLines              No phone service                    No  \n",
       "InternetService                         DSL           Fiber optic  \n",
       "OnlineSecurity                          Yes                    No  \n",
       "OnlineBackup                             No                    No  \n",
       "DeviceProtection                        Yes                    No  \n",
       "TechSupport                             Yes                    No  \n",
       "StreamingTV                              No                    No  \n",
       "StreamingMovies                          No                    No  \n",
       "Contract                           One year        Month-to-month  \n",
       "PaperlessBilling                         No                   Yes  \n",
       "PaymentMethod     Bank transfer (automatic)      Electronic check  \n",
       "MonthlyCharges                         42.3                  70.7  \n",
       "TotalCharges                        1840.75                151.65  \n",
       "Churn                                    No                   Yes  \n",
       "phone_type                 No Phone Service              One Line  \n",
       "telecom_setup          DSL No Phone Service  Fiber optic One Line  "
      ]
     },
     "execution_count": 14,
     "metadata": {},
     "output_type": "execute_result"
    }
   ],
   "source": [
    "# Let's combine all these different values together\n",
    "df[\"telecom_setup\"] = df.InternetService + \" \" + df.phone_type\n",
    "df.head().T"
   ]
  },
  {
   "cell_type": "code",
   "execution_count": 15,
   "metadata": {},
   "outputs": [
    {
     "data": {
      "text/plain": [
       "Fiber optic Two or More Lines    1938\n",
       "No Internet One Line             1180\n",
       "Fiber optic One Line             1158\n",
       "DSL One Line                     1047\n",
       "DSL Two or More Lines             689\n",
       "DSL No Phone Service              680\n",
       "No Internet Two or More Lines     340\n",
       "Name: telecom_setup, dtype: int64"
      ]
     },
     "execution_count": 15,
     "metadata": {},
     "output_type": "execute_result"
    }
   ],
   "source": [
    "df.telecom_setup.value_counts()"
   ]
  },
  {
   "cell_type": "code",
   "execution_count": 16,
   "metadata": {},
   "outputs": [
    {
     "data": {
      "text/plain": [
       "Index(['Fiber optic Two or More Lines', 'No Internet One Line',\n",
       "       'Fiber optic One Line', 'DSL One Line', 'DSL Two or More Lines',\n",
       "       'DSL No Phone Service', 'No Internet Two or More Lines'],\n",
       "      dtype='object')"
      ]
     },
     "execution_count": 16,
     "metadata": {},
     "output_type": "execute_result"
    }
   ],
   "source": [
    "options = df.telecom_setup.value_counts().index\n",
    "options"
   ]
  },
  {
   "cell_type": "code",
   "execution_count": 17,
   "metadata": {},
   "outputs": [
    {
     "data": {
      "text/plain": [
       "'No Internet One Line'"
      ]
     },
     "execution_count": 17,
     "metadata": {},
     "output_type": "execute_result"
    }
   ],
   "source": [
    "options[1]"
   ]
  },
  {
   "cell_type": "code",
   "execution_count": 18,
   "metadata": {},
   "outputs": [
    {
     "name": "stdout",
     "output_type": "stream",
     "text": [
      "Correlation test for tenure vs. monthly_charges, controling for Internet/Phone service\n"
     ]
    },
    {
     "data": {
      "text/html": [
       "<div>\n",
       "<style scoped>\n",
       "    .dataframe tbody tr th:only-of-type {\n",
       "        vertical-align: middle;\n",
       "    }\n",
       "\n",
       "    .dataframe tbody tr th {\n",
       "        vertical-align: top;\n",
       "    }\n",
       "\n",
       "    .dataframe thead th {\n",
       "        text-align: right;\n",
       "    }\n",
       "</style>\n",
       "<table border=\"1\" class=\"dataframe\">\n",
       "  <thead>\n",
       "    <tr style=\"text-align: right;\">\n",
       "      <th></th>\n",
       "      <th>option</th>\n",
       "      <th>corr</th>\n",
       "      <th>p</th>\n",
       "      <th>message</th>\n",
       "    </tr>\n",
       "  </thead>\n",
       "  <tbody>\n",
       "    <tr>\n",
       "      <th>0</th>\n",
       "      <td>Fiber optic Two or More Lines</td>\n",
       "      <td>0.573212</td>\n",
       "      <td>1.083568e-169</td>\n",
       "      <td>reject the null hypothesis that there is no li...</td>\n",
       "    </tr>\n",
       "    <tr>\n",
       "      <th>1</th>\n",
       "      <td>No Internet One Line</td>\n",
       "      <td>-0.012140</td>\n",
       "      <td>6.769684e-01</td>\n",
       "      <td>fail to reject the null hypothesis that there ...</td>\n",
       "    </tr>\n",
       "    <tr>\n",
       "      <th>2</th>\n",
       "      <td>Fiber optic One Line</td>\n",
       "      <td>0.528906</td>\n",
       "      <td>1.881036e-84</td>\n",
       "      <td>reject the null hypothesis that there is no li...</td>\n",
       "    </tr>\n",
       "    <tr>\n",
       "      <th>3</th>\n",
       "      <td>DSL One Line</td>\n",
       "      <td>0.562023</td>\n",
       "      <td>3.174262e-88</td>\n",
       "      <td>reject the null hypothesis that there is no li...</td>\n",
       "    </tr>\n",
       "    <tr>\n",
       "      <th>4</th>\n",
       "      <td>DSL Two or More Lines</td>\n",
       "      <td>0.609170</td>\n",
       "      <td>3.258127e-71</td>\n",
       "      <td>reject the null hypothesis that there is no li...</td>\n",
       "    </tr>\n",
       "    <tr>\n",
       "      <th>5</th>\n",
       "      <td>DSL No Phone Service</td>\n",
       "      <td>0.592430</td>\n",
       "      <td>1.173274e-65</td>\n",
       "      <td>reject the null hypothesis that there is no li...</td>\n",
       "    </tr>\n",
       "    <tr>\n",
       "      <th>6</th>\n",
       "      <td>No Internet Two or More Lines</td>\n",
       "      <td>-0.033216</td>\n",
       "      <td>5.416047e-01</td>\n",
       "      <td>fail to reject the null hypothesis that there ...</td>\n",
       "    </tr>\n",
       "  </tbody>\n",
       "</table>\n",
       "</div>"
      ],
      "text/plain": [
       "                          option      corr              p  \\\n",
       "0  Fiber optic Two or More Lines  0.573212  1.083568e-169   \n",
       "1           No Internet One Line -0.012140   6.769684e-01   \n",
       "2           Fiber optic One Line  0.528906   1.881036e-84   \n",
       "3                   DSL One Line  0.562023   3.174262e-88   \n",
       "4          DSL Two or More Lines  0.609170   3.258127e-71   \n",
       "5           DSL No Phone Service  0.592430   1.173274e-65   \n",
       "6  No Internet Two or More Lines -0.033216   5.416047e-01   \n",
       "\n",
       "                                             message  \n",
       "0  reject the null hypothesis that there is no li...  \n",
       "1  fail to reject the null hypothesis that there ...  \n",
       "2  reject the null hypothesis that there is no li...  \n",
       "3  reject the null hypothesis that there is no li...  \n",
       "4  reject the null hypothesis that there is no li...  \n",
       "5  reject the null hypothesis that there is no li...  \n",
       "6  fail to reject the null hypothesis that there ...  "
      ]
     },
     "execution_count": 18,
     "metadata": {},
     "output_type": "execute_result"
    }
   ],
   "source": [
    "# Run through the set of all options for tenure vs. monthly_charges\n",
    "\n",
    "output = []\n",
    "\n",
    "for option in options:\n",
    "    subset = df[df.telecom_setup == option]\n",
    "    corr, p, message = correlation_test(subset.tenure, subset.MonthlyCharges)\n",
    "    result = {\n",
    "        \"option\": option,\n",
    "        \"corr\": corr,\n",
    "        \"p\": p,\n",
    "        \"message\": message\n",
    "    }\n",
    "    output.append(result)\n",
    "\n",
    "print(\"Correlation test for tenure vs. monthly_charges, controling for Internet/Phone service\")\n",
    "pd.DataFrame(output)"
   ]
  },
  {
   "cell_type": "code",
   "execution_count": 19,
   "metadata": {},
   "outputs": [
    {
     "data": {
      "text/plain": [
       "<AxesSubplot:xlabel='tenure', ylabel='MonthlyCharges'>"
      ]
     },
     "execution_count": 19,
     "metadata": {},
     "output_type": "execute_result"
    },
    {
     "data": {
      "image/png": "[encoded data removed]",
      "text/plain": [
       "<Figure size 432x288 with 1 Axes>"
      ]
     },
     "metadata": {
      "needs_background": "light"
     },
     "output_type": "display_data"
    }
   ],
   "source": [
    "fiber_2_lines = df[df.telecom_setup == \"Fiber optic Two or More Lines\"]\n",
    "sns.scatterplot(x=\"tenure\", y=\"MonthlyCharges\", data=fiber_2_lines)"
   ]
  },
  {
   "cell_type": "code",
   "execution_count": 20,
   "metadata": {},
   "outputs": [
    {
     "data": {
      "text/plain": [
       "<AxesSubplot:xlabel='tenure', ylabel='MonthlyCharges'>"
      ]
     },
     "execution_count": 20,
     "metadata": {},
     "output_type": "execute_result"
    },
    {
     "data": {
      "image/png": "[encoded data removed]",
      "text/plain": [
       "<Figure size 432x288 with 1 Axes>"
      ]
     },
     "metadata": {
      "needs_background": "light"
     },
     "output_type": "display_data"
    }
   ],
   "source": [
    "no_internet_one_line = df[df.telecom_setup == \"No Internet One Line\"]\n",
    "sns.scatterplot(x=\"tenure\", y=\"MonthlyCharges\", data=no_internet_one_line)"
   ]
  },
  {
   "cell_type": "code",
   "execution_count": 21,
   "metadata": {},
   "outputs": [
    {
     "name": "stdout",
     "output_type": "stream",
     "text": [
      "Correlation test for tenure vs. total_charges, controling for Internet/Phone service\n"
     ]
    },
    {
     "data": {
      "text/html": [
       "<div>\n",
       "<style scoped>\n",
       "    .dataframe tbody tr th:only-of-type {\n",
       "        vertical-align: middle;\n",
       "    }\n",
       "\n",
       "    .dataframe tbody tr th {\n",
       "        vertical-align: top;\n",
       "    }\n",
       "\n",
       "    .dataframe thead th {\n",
       "        text-align: right;\n",
       "    }\n",
       "</style>\n",
       "<table border=\"1\" class=\"dataframe\">\n",
       "  <thead>\n",
       "    <tr style=\"text-align: right;\">\n",
       "      <th></th>\n",
       "      <th>option</th>\n",
       "      <th>corr</th>\n",
       "      <th>p</th>\n",
       "      <th>message</th>\n",
       "    </tr>\n",
       "  </thead>\n",
       "  <tbody>\n",
       "    <tr>\n",
       "      <th>0</th>\n",
       "      <td>Fiber optic Two or More Lines</td>\n",
       "      <td>0.983112</td>\n",
       "      <td>0.0</td>\n",
       "      <td>reject the null hypothesis that there is no li...</td>\n",
       "    </tr>\n",
       "    <tr>\n",
       "      <th>1</th>\n",
       "      <td>No Internet One Line</td>\n",
       "      <td>0.996779</td>\n",
       "      <td>0.0</td>\n",
       "      <td>reject the null hypothesis that there is no li...</td>\n",
       "    </tr>\n",
       "    <tr>\n",
       "      <th>2</th>\n",
       "      <td>Fiber optic One Line</td>\n",
       "      <td>0.986829</td>\n",
       "      <td>0.0</td>\n",
       "      <td>reject the null hypothesis that there is no li...</td>\n",
       "    </tr>\n",
       "    <tr>\n",
       "      <th>3</th>\n",
       "      <td>DSL One Line</td>\n",
       "      <td>0.973611</td>\n",
       "      <td>0.0</td>\n",
       "      <td>reject the null hypothesis that there is no li...</td>\n",
       "    </tr>\n",
       "    <tr>\n",
       "      <th>4</th>\n",
       "      <td>DSL Two or More Lines</td>\n",
       "      <td>0.965781</td>\n",
       "      <td>0.0</td>\n",
       "      <td>reject the null hypothesis that there is no li...</td>\n",
       "    </tr>\n",
       "    <tr>\n",
       "      <th>5</th>\n",
       "      <td>DSL No Phone Service</td>\n",
       "      <td>0.953423</td>\n",
       "      <td>0.0</td>\n",
       "      <td>reject the null hypothesis that there is no li...</td>\n",
       "    </tr>\n",
       "    <tr>\n",
       "      <th>6</th>\n",
       "      <td>No Internet Two or More Lines</td>\n",
       "      <td>0.994139</td>\n",
       "      <td>0.0</td>\n",
       "      <td>reject the null hypothesis that there is no li...</td>\n",
       "    </tr>\n",
       "  </tbody>\n",
       "</table>\n",
       "</div>"
      ],
      "text/plain": [
       "                          option      corr    p  \\\n",
       "0  Fiber optic Two or More Lines  0.983112  0.0   \n",
       "1           No Internet One Line  0.996779  0.0   \n",
       "2           Fiber optic One Line  0.986829  0.0   \n",
       "3                   DSL One Line  0.973611  0.0   \n",
       "4          DSL Two or More Lines  0.965781  0.0   \n",
       "5           DSL No Phone Service  0.953423  0.0   \n",
       "6  No Internet Two or More Lines  0.994139  0.0   \n",
       "\n",
       "                                             message  \n",
       "0  reject the null hypothesis that there is no li...  \n",
       "1  reject the null hypothesis that there is no li...  \n",
       "2  reject the null hypothesis that there is no li...  \n",
       "3  reject the null hypothesis that there is no li...  \n",
       "4  reject the null hypothesis that there is no li...  \n",
       "5  reject the null hypothesis that there is no li...  \n",
       "6  reject the null hypothesis that there is no li...  "
      ]
     },
     "execution_count": 21,
     "metadata": {},
     "output_type": "execute_result"
    }
   ],
   "source": [
    "# Run through the set of all options for tenure vs. total_charges\n",
    "\n",
    "output = []\n",
    "\n",
    "for option in options:\n",
    "    subset = df[df.telecom_setup == option]\n",
    "    corr, p, message = correlation_test(subset.tenure, subset.TotalCharges)\n",
    "    result = {\n",
    "        \"option\": option,\n",
    "        \"corr\": corr,\n",
    "        \"p\": p,\n",
    "        \"message\": message\n",
    "    }\n",
    "    output.append(result)\n",
    "\n",
    "print(\"Correlation test for tenure vs. total_charges, controling for Internet/Phone service\") \n",
    "pd.DataFrame(output)"
   ]
  },
  {
   "cell_type": "markdown",
   "metadata": {},
   "source": [
    "## Use the employees database.\n",
    "- Is there a relationship between how long an employee has been with the company and their salary?\n",
    "- Is there a relationship between how long an employee has been with the company and the number of titles they have had?"
   ]
  },
  {
   "cell_type": "code",
   "execution_count": 22,
   "metadata": {},
   "outputs": [],
   "source": [
    "from env import user, password, host\n",
    "import pymysql"
   ]
  },
  {
   "cell_type": "code",
   "execution_count": 23,
   "metadata": {},
   "outputs": [],
   "source": [
    "def get_db_url(user,password,host,database):\n",
    "    '''get a url from input user, password, host and database'''\n",
    "    \n",
    "    return f'mysql+pymysql://{user}:{password}@{host}/{database}'\n",
    "    \n",
    "conn = get_db_url(user, password, host, \"employees\")"
   ]
  },
  {
   "cell_type": "code",
   "execution_count": 24,
   "metadata": {},
   "outputs": [],
   "source": [
    "sql = \"\"\"\n",
    "select emp_no, salary, datediff((select max(hire_date) from employees), hire_date) as tenure from employees\n",
    "join salaries using(emp_no);\n",
    "\"\"\""
   ]
  },
  {
   "cell_type": "code",
   "execution_count": 25,
   "metadata": {},
   "outputs": [
    {
     "data": {
      "text/html": [
       "<div>\n",
       "<style scoped>\n",
       "    .dataframe tbody tr th:only-of-type {\n",
       "        vertical-align: middle;\n",
       "    }\n",
       "\n",
       "    .dataframe tbody tr th {\n",
       "        vertical-align: top;\n",
       "    }\n",
       "\n",
       "    .dataframe thead th {\n",
       "        text-align: right;\n",
       "    }\n",
       "</style>\n",
       "<table border=\"1\" class=\"dataframe\">\n",
       "  <thead>\n",
       "    <tr style=\"text-align: right;\">\n",
       "      <th></th>\n",
       "      <th>emp_no</th>\n",
       "      <th>salary</th>\n",
       "      <th>tenure</th>\n",
       "    </tr>\n",
       "  </thead>\n",
       "  <tbody>\n",
       "    <tr>\n",
       "      <th>0</th>\n",
       "      <td>10001</td>\n",
       "      <td>60117</td>\n",
       "      <td>4964</td>\n",
       "    </tr>\n",
       "    <tr>\n",
       "      <th>1</th>\n",
       "      <td>10001</td>\n",
       "      <td>62102</td>\n",
       "      <td>4964</td>\n",
       "    </tr>\n",
       "    <tr>\n",
       "      <th>2</th>\n",
       "      <td>10001</td>\n",
       "      <td>66074</td>\n",
       "      <td>4964</td>\n",
       "    </tr>\n",
       "  </tbody>\n",
       "</table>\n",
       "</div>"
      ],
      "text/plain": [
       "   emp_no  salary  tenure\n",
       "0   10001   60117    4964\n",
       "1   10001   62102    4964\n",
       "2   10001   66074    4964"
      ]
     },
     "execution_count": 25,
     "metadata": {},
     "output_type": "execute_result"
    }
   ],
   "source": [
    "df = pd.read_sql(sql, conn)\n",
    "df.head(3)"
   ]
  },
  {
   "cell_type": "code",
   "execution_count": 26,
   "metadata": {},
   "outputs": [
    {
     "data": {
      "text/plain": [
       "<AxesSubplot:xlabel='tenure', ylabel='salary'>"
      ]
     },
     "execution_count": 26,
     "metadata": {},
     "output_type": "execute_result"
    },
    {
     "data": {
      "image/png": "[encoded data removed]",
      "text/plain": [
       "<Figure size 432x288 with 1 Axes>"
      ]
     },
     "metadata": {
      "needs_background": "light"
     },
     "output_type": "display_data"
    }
   ],
   "source": [
    "sns.scatterplot(x=\"tenure\", y=\"salary\", data=df)"
   ]
  },
  {
   "cell_type": "markdown",
   "metadata": {},
   "source": [
    "## Is there a relationship between how long an employee has been with the company and their salary?\n",
    "\n",
    "$H_o$: There is not a linear correlation between employee tenure and salary\n",
    "\n",
    "$H_a$: There is a linear correlation between employee tenure and salary"
   ]
  },
  {
   "cell_type": "code",
   "execution_count": 27,
   "metadata": {},
   "outputs": [
    {
     "name": "stdout",
     "output_type": "stream",
     "text": [
      "We reject the null hypothesis\n",
      "Evidence supports the claim that there is a linear correlation\n"
     ]
    },
    {
     "data": {
      "text/plain": [
       "(0.157629197069865, 0.0)"
      ]
     },
     "execution_count": 27,
     "metadata": {},
     "output_type": "execute_result"
    }
   ],
   "source": [
    "alpha = 0.05\n",
    "corr, p = stats.pearsonr(df.tenure, df.salary)\n",
    "\n",
    "if p < alpha:\n",
    "    print(\"We reject the null hypothesis\")\n",
    "    print(\"Evidence supports the claim that there is a linear correlation\")\n",
    "else:\n",
    "    print(\"We fail to reject the null hypothesis\")\n",
    "\n",
    "corr, p"
   ]
  },
  {
   "cell_type": "markdown",
   "metadata": {},
   "source": [
    "## Is there a relationship between how long an employee has been with the company and the number of titles they have had?\n",
    "\n",
    "- $H_o$: There is no linear correlation between tenure and number of titles\n",
    "- $H_a$: There is a linear correlation between tenure and number of titles"
   ]
  },
  {
   "cell_type": "code",
   "execution_count": 28,
   "metadata": {},
   "outputs": [],
   "source": [
    "sql = \"\"\"\n",
    "select emp_no, count(title) as title_count, datediff(curdate(), hire_date) as days_on_job\n",
    "from employees\n",
    "join titles using(emp_no)\n",
    "group by emp_no;\n",
    "\"\"\""
   ]
  },
  {
   "cell_type": "code",
   "execution_count": 29,
   "metadata": {
    "scrolled": true
   },
   "outputs": [
    {
     "data": {
      "text/html": [
       "<div>\n",
       "<style scoped>\n",
       "    .dataframe tbody tr th:only-of-type {\n",
       "        vertical-align: middle;\n",
       "    }\n",
       "\n",
       "    .dataframe tbody tr th {\n",
       "        vertical-align: top;\n",
       "    }\n",
       "\n",
       "    .dataframe thead th {\n",
       "        text-align: right;\n",
       "    }\n",
       "</style>\n",
       "<table border=\"1\" class=\"dataframe\">\n",
       "  <thead>\n",
       "    <tr style=\"text-align: right;\">\n",
       "      <th></th>\n",
       "      <th>emp_no</th>\n",
       "      <th>title_count</th>\n",
       "      <th>days_on_job</th>\n",
       "    </tr>\n",
       "  </thead>\n",
       "  <tbody>\n",
       "    <tr>\n",
       "      <th>0</th>\n",
       "      <td>10001</td>\n",
       "      <td>1</td>\n",
       "      <td>13151</td>\n",
       "    </tr>\n",
       "    <tr>\n",
       "      <th>1</th>\n",
       "      <td>10002</td>\n",
       "      <td>1</td>\n",
       "      <td>13368</td>\n",
       "    </tr>\n",
       "    <tr>\n",
       "      <th>2</th>\n",
       "      <td>10003</td>\n",
       "      <td>1</td>\n",
       "      <td>13088</td>\n",
       "    </tr>\n",
       "    <tr>\n",
       "      <th>3</th>\n",
       "      <td>10004</td>\n",
       "      <td>2</td>\n",
       "      <td>12993</td>\n",
       "    </tr>\n",
       "    <tr>\n",
       "      <th>4</th>\n",
       "      <td>10005</td>\n",
       "      <td>2</td>\n",
       "      <td>11977</td>\n",
       "    </tr>\n",
       "  </tbody>\n",
       "</table>\n",
       "</div>"
      ],
      "text/plain": [
       "   emp_no  title_count  days_on_job\n",
       "0   10001            1        13151\n",
       "1   10002            1        13368\n",
       "2   10003            1        13088\n",
       "3   10004            2        12993\n",
       "4   10005            2        11977"
      ]
     },
     "execution_count": 29,
     "metadata": {},
     "output_type": "execute_result"
    }
   ],
   "source": [
    "df = pd.read_sql(sql, conn)\n",
    "df.head()"
   ]
  },
  {
   "cell_type": "code",
   "execution_count": 30,
   "metadata": {},
   "outputs": [
    {
     "data": {
      "text/plain": [
       "<AxesSubplot:xlabel='days_on_job', ylabel='title_count'>"
      ]
     },
     "execution_count": 30,
     "metadata": {},
     "output_type": "execute_result"
    },
    {
     "data": {
      "image/png": "[encoded data removed]",
      "text/plain": [
       "<Figure size 432x288 with 1 Axes>"
      ]
     },
     "metadata": {
      "needs_background": "light"
     },
     "output_type": "display_data"
    }
   ],
   "source": [
    "sns.scatterplot(x=\"days_on_job\", y=\"title_count\", data=df)"
   ]
  },
  {
   "cell_type": "code",
   "execution_count": 31,
   "metadata": {},
   "outputs": [
    {
     "name": "stdout",
     "output_type": "stream",
     "text": [
      "We reject the null hypothesis\n",
      "Evidence supports the claim that there is a linear correlation between tenure and number of titles\n"
     ]
    },
    {
     "data": {
      "text/plain": [
       "(0.26659892991364276, 0.0)"
      ]
     },
     "execution_count": 31,
     "metadata": {},
     "output_type": "execute_result"
    }
   ],
   "source": [
    "corr, p = stats.pearsonr(df.days_on_job, df.title_count)\n",
    "\n",
    "if p < alpha:\n",
    "    print(\"We reject the null hypothesis\")\n",
    "    print(\"Evidence supports the claim that there is a linear correlation between tenure and number of titles\")\n",
    "else:\n",
    "    print(\"We fail to reject the null hypothesis\")\n",
    "\n",
    "corr, p"
   ]
  },
  {
   "cell_type": "markdown",
   "metadata": {},
   "source": [
    "Takeaway: It's possible to have a _super_ low p value, even zero p value, and still have a weak correlation. A super high number of observations can show significance through low p values"
   ]
  },
  {
   "cell_type": "markdown",
   "metadata": {},
   "source": [
    "## Use the sleepstudy data. Is there a relationship between days and reaction time?\n"
   ]
  },
  {
   "cell_type": "code",
   "execution_count": 32,
   "metadata": {},
   "outputs": [
    {
     "data": {
      "text/html": [
       "<div>\n",
       "<style scoped>\n",
       "    .dataframe tbody tr th:only-of-type {\n",
       "        vertical-align: middle;\n",
       "    }\n",
       "\n",
       "    .dataframe tbody tr th {\n",
       "        vertical-align: top;\n",
       "    }\n",
       "\n",
       "    .dataframe thead th {\n",
       "        text-align: right;\n",
       "    }\n",
       "</style>\n",
       "<table border=\"1\" class=\"dataframe\">\n",
       "  <thead>\n",
       "    <tr style=\"text-align: right;\">\n",
       "      <th></th>\n",
       "      <th>Reaction</th>\n",
       "      <th>Days</th>\n",
       "      <th>Subject</th>\n",
       "    </tr>\n",
       "  </thead>\n",
       "  <tbody>\n",
       "    <tr>\n",
       "      <th>1</th>\n",
       "      <td>249.5600</td>\n",
       "      <td>0</td>\n",
       "      <td>308</td>\n",
       "    </tr>\n",
       "    <tr>\n",
       "      <th>2</th>\n",
       "      <td>258.7047</td>\n",
       "      <td>1</td>\n",
       "      <td>308</td>\n",
       "    </tr>\n",
       "    <tr>\n",
       "      <th>3</th>\n",
       "      <td>250.8006</td>\n",
       "      <td>2</td>\n",
       "      <td>308</td>\n",
       "    </tr>\n",
       "    <tr>\n",
       "      <th>4</th>\n",
       "      <td>321.4398</td>\n",
       "      <td>3</td>\n",
       "      <td>308</td>\n",
       "    </tr>\n",
       "    <tr>\n",
       "      <th>5</th>\n",
       "      <td>356.8519</td>\n",
       "      <td>4</td>\n",
       "      <td>308</td>\n",
       "    </tr>\n",
       "  </tbody>\n",
       "</table>\n",
       "</div>"
      ],
      "text/plain": [
       "   Reaction  Days  Subject\n",
       "1  249.5600     0      308\n",
       "2  258.7047     1      308\n",
       "3  250.8006     2      308\n",
       "4  321.4398     3      308\n",
       "5  356.8519     4      308"
      ]
     },
     "execution_count": 32,
     "metadata": {},
     "output_type": "execute_result"
    }
   ],
   "source": [
    "from pydataset import data\n",
    "df = data(\"sleepstudy\")\n",
    "df.head()"
   ]
  },
  {
   "cell_type": "code",
   "execution_count": 33,
   "metadata": {},
   "outputs": [
    {
     "data": {
      "text/plain": [
       "<seaborn.axisgrid.FacetGrid at 0x7fc42038ec10>"
      ]
     },
     "execution_count": 33,
     "metadata": {},
     "output_type": "execute_result"
    },
    {
     "data": {
      "image/png": "[encoded data removed]",
      "text/plain": [
       "<Figure size 360x360 with 1 Axes>"
      ]
     },
     "metadata": {
      "needs_background": "light"
     },
     "output_type": "display_data"
    }
   ],
   "source": [
    "sns.lmplot(data=df, x = \"Days\", y = \"Reaction\")"
   ]
  },
  {
   "cell_type": "markdown",
   "metadata": {},
   "source": [
    "$H_o$: There is no linear correlation between days and reaction time\n",
    "\n",
    "$H_a$: There is a linear correlation between days and reaction time"
   ]
  },
  {
   "cell_type": "code",
   "execution_count": 34,
   "metadata": {},
   "outputs": [
    {
     "name": "stdout",
     "output_type": "stream",
     "text": [
      "We reject the null hypothesis\n"
     ]
    },
    {
     "data": {
      "text/plain": [
       "(0.5352302262650254, 9.89409632221453e-15)"
      ]
     },
     "execution_count": 34,
     "metadata": {},
     "output_type": "execute_result"
    }
   ],
   "source": [
    "corr, p = stats.pearsonr(df.Days, df.Reaction)\n",
    "\n",
    "if p < alpha:\n",
    "    print(\"We reject the null hypothesis\")\n",
    "else:\n",
    "    print(\"We fail to reject the null hypothesis\")\n",
    "\n",
    "corr, p"
   ]
  },
  {
   "cell_type": "code",
   "execution_count": null,
   "metadata": {},
   "outputs": [],
   "source": []
  }
 ],
 "metadata": {
  "kernelspec": {
   "display_name": "Python 3",
   "language": "python",
   "name": "python3"
  },
  "language_info": {
   "codemirror_mode": {
    "name": "ipython",
    "version": 3
   },
   "file_extension": ".py",
   "mimetype": "text/x-python",
   "name": "python",
   "nbconvert_exporter": "python",
   "pygments_lexer": "ipython3",
   "version": "3.8.5"
  }
 },
 "nbformat": 4,
 "nbformat_minor": 4
}
