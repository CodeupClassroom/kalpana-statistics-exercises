{
 "cells": [
  {
   "cell_type": "code",
   "execution_count": 1,
   "metadata": {},
   "outputs": [],
   "source": [
    "import math\n",
    "\n",
    "import numpy as np\n",
    "import pandas as pd\n",
    "import matplotlib.pyplot as plt\n",
    "\n",
    "from scipy import stats\n"
   ]
  },
  {
   "cell_type": "markdown",
   "metadata": {},
   "source": [
    "## Hypothesis Testing"
   ]
  },
  {
   "cell_type": "markdown",
   "metadata": {},
   "source": [
    "- **alpha**: $\\alpha$: 1 - confidence level (95% confidence level -> $\\alpha = .05$)\n",
    "- **null hypothesis**: $H_0$: the \"status quo\"\n",
    "- **alternative hyopthesis**: $H_a$: the opposite; alternative\n",
    "\n",
    "We either *reject* or *fail to reject* the null hypothesis"
   ]
  },
  {
   "cell_type": "markdown",
   "metadata": {},
   "source": [
    "**p-value**\n",
    "\n",
    "- P(data|$H_0$)\n",
    "- The likelihood the we see the evidence at hand under the null hypothesis\n",
    "- If the null hypothesis is true, the likelihood of observing our data\n",
    "\n",
    "if $p < \\alpha$: we reject $H_0$\n",
    "\n",
    "if $p >= \\alpha$: we fail to reject $H_0$"
   ]
  },
  {
   "cell_type": "markdown",
   "metadata": {},
   "source": [
    "- Are the average grades in web development vs data science classes different?\n",
    "\n",
    "    $H_0$: The average grades for webdev and data science are the same.\n",
    "    \n",
    "    $H_a$: The average grades for webdev and data science are not the same.\n",
    "    \n",
    "- Is there a relationship between how early a student shows up to class and their grade?\n",
    "\n",
    "    $H_0$: there is no relationship between how early a student comes to class and their grade\n",
    "    \n",
    "    $H_a$: there is a relationship between how early a student comes to class and their grade\n",
    "\n"
   ]
  },
  {
   "cell_type": "markdown",
   "metadata": {},
   "source": [
    "> Are the plants in classroom helping?\n",
    "\n",
    "- survey scores\n",
    "    - $H_0$: Survey scores before and after plants were introduced are no different.\n",
    "    - $H_a$: Survey scores improved after plants were introduced in the classroom.\n"
   ]
  },
  {
   "cell_type": "markdown",
   "metadata": {},
   "source": [
    "- True Positive\n",
    "    - small p-value -- < alpha (.001)\n",
    "    - reject $H_0$\n",
    "    - avg survey score before plants: 3.2\n",
    "    - avg survey score after plants: 4.5\n",
    "- False Positive\n",
    "    - small p-value\n",
    "    - reject $H_0$\n",
    "    - we cancelled a quiz right before everyone took the surveys\n",
    "- True Negative\n",
    "    - higher p-value\n",
    "    - fail to reject $H_0$\n",
    "    - avg survey score before plants: 3.9\n",
    "    - avg survey score after plants: 4.1\n",
    "- False Negative\n",
    "    - higher p-value\n",
    "    - fail to reject $H_0$\n",
    "    - avg survey score before plants: 3.5\n",
    "    - avg survey score after plants: 3.3\n",
    "    - everyone took the survey when they were in the middle of the tableau project"
   ]
  },
  {
   "cell_type": "markdown",
   "metadata": {},
   "source": [
    "---\n",
    "\n",
    "> Do houses with even street numbers sell for more money?\n"
   ]
  },
  {
   "cell_type": "markdown",
   "metadata": {},
   "source": [
    "- $H_0$: the property values for even numbered houses are the same or lower than the overall average property value\n",
    "- $H_a$: the property values for even numberd houses are higher than the overall average property value"
   ]
  },
  {
   "cell_type": "markdown",
   "metadata": {},
   "source": [
    "- True Positive\n",
    "    - low p-value\n",
    "    - reject $H_0$\n",
    "    - avg property value for even # houses -> \\$200,000\n",
    "    - avg property value overall -> \\$150,000\n",
    "- False Positive\n",
    "    - low p-value\n",
    "    - reject $H_0$\n",
    "    - a significant difference in property values\n",
    "    - we found the overall average property value from the county website\n",
    "    - we calculated the average property value for even # houses based on sampling the dominion\n",
    "- False Negative\n",
    "    - fail to reject $H_0$\n",
    "    - high p-value\n",
    "    - the average house price for even numbered houses is not higher than the overall average\n",
    "    - for example: response bias on an online survey\n",
    "- True Negative\n",
    "    - high p-value\n",
    "    - fail to reject $H_0$\n",
    "    - avg price for even # houses: \\$145,000\n",
    "    - overall avg house price: \\$140,000"
   ]
  },
  {
   "cell_type": "markdown",
   "metadata": {},
   "source": [
    "## Exercise Review"
   ]
  },
  {
   "cell_type": "markdown",
   "metadata": {},
   "source": [
    "2 x 2 categories\n",
    "\n",
    "- False / True: Whether we concluded the right thing\n",
    "- Positive / Negative: Whether we concluded there is something (+) or there isn't something hapenning (-)"
   ]
  },
  {
   "cell_type": "markdown",
   "metadata": {},
   "source": [
    "> Has the network latency gone up since we switched ISPs?\n",
    "\n",
    "- $H_0$: the network latency is the same or worse since the ISP switch.\n",
    "- $H_a$: the new ISP has higher latency\n",
    "- True Positive: We reject $H_0$, our latency is ~ 300ms on average with the new ISP, it was ~50ms\n",
    "- False Positive: We reject $H_0$, our data says the latency is higher; our data is biased, we took recordings between 6pm and 8pm when everyone is streaming media\n",
    "- False Negative: We fail to reject $H_0$: we took recordings between 6am and 7am when no one is on the network\n",
    "- True Negative: Our data says there isn't much difference in latency, we fail to reject $H_0$"
   ]
  },
  {
   "cell_type": "markdown",
   "metadata": {},
   "source": [
    "> Is the website redesign any good?\n",
    "\n",
    "- $H_0$: the number of click throughs since the site redesign had remained same or lowered\n",
    "- $H_a$: there are more click throughs since the site redesign\n",
    "- TP: reject $H_0$, we conclude that the redesign helped, and it really did\n",
    "- FP: reject $H_0$, we conclude that the redesign helped, but really it didn't; we only showed the new website to previously engaged customers\n",
    "- FN: fail to reject $H_0$, we conclude the redesign did not help, but really it did; we only showed the new website to people who provided negative feedback\n",
    "- TN: fail to reject $H_0$, we conclude the redesign did not help, and it really didn't"
   ]
  },
  {
   "cell_type": "markdown",
   "metadata": {},
   "source": [
    "> Is our TV ad driving more sales?\n",
    "\n",
    "We're frito-lay advertising cool ranch doritos.\n",
    "\n",
    "- $H_0$: Cool ranch doritos sales did not increase when we're running an advertisement\n",
    "- $H_a$: Sales for cool ranch doritos increase when we're running an ad\n",
    "- FP: reject $H_0$; we conclude that the advertisement helped sales, but really it didn't\n",
    "- FN: fail to reject $H_0$; we conclude that the ad did not help, but really it did\n",
    "- TP: reject $H_0$; we conclude that the ad helped, and it did\n",
    "- TN: fail to reject $H_0$: we conclude the ad did not boost sales, and really it didn't\n",
    "\n",
    "> suppose we a production issue while the ad is running -- there's not enough product to sell, sales are low\n",
    "\n",
    "- FN: conclude that the ad didn't help, but really it did, we just didn't have enough inventory\n",
    "\n",
    "> suppose there's a global pandemic, and everyone is staying inside while the ad is running. There's increased sales of cool ranch doritos.\n",
    "\n",
    "- FP: conclude that the ad helped, when really it didn't"
   ]
  },
  {
   "cell_type": "code",
   "execution_count": null,
   "metadata": {},
   "outputs": [],
   "source": []
  }
 ],
 "metadata": {
  "kernelspec": {
   "display_name": "Python 3",
   "language": "python",
   "name": "python3"
  },
  "language_info": {
   "codemirror_mode": {
    "name": "ipython",
    "version": 3
   },
   "file_extension": ".py",
   "mimetype": "text/x-python",
   "name": "python",
   "nbconvert_exporter": "python",
   "pygments_lexer": "ipython3",
   "version": "3.8.5"
  }
 },
 "nbformat": 4,
 "nbformat_minor": 2
}
