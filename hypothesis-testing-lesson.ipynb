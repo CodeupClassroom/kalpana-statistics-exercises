{
 "cells": [
  {
   "cell_type": "markdown",
   "metadata": {},
   "source": [
    "## Hypothesis Testing"
   ]
  },
  {
   "cell_type": "markdown",
   "metadata": {},
   "source": [
    "- **alpha**: $\\alpha$: 1 - confidence level (95% confidence level -> $\\alpha = .05$)\n",
    "- **null hypothesis**: $H_0$: the \"status quo\"\n",
    "- **alternative hyopthesis**: $H_a$: the opposite; alternative\n",
    "\n",
    "We either *reject* or *fail to reject* the null hypothesis"
   ]
  },
  {
   "cell_type": "markdown",
   "metadata": {},
   "source": [
    "**p-value**\n",
    "\n",
    "- P(data|$H_0$)\n",
    "- The likelihood the we see the evidence at hand under the null hypothesis\n",
    "- If the null hypothesis is true, the likelihood of observing our data\n",
    "- How Ridiculous is our null hypothesis (lower the p, more ridiculous)\n",
    "\n",
    "if $p < \\alpha$: we reject $H_0$\n",
    "\n",
    "if $p >= \\alpha$: we fail to reject $H_0$"
   ]
  },
  {
   "cell_type": "markdown",
   "metadata": {},
   "source": []
  },
  {
   "cell_type": "markdown",
   "metadata": {},
   "source": [
    "### Examples:\n",
    "\n",
    "- Are the average grades in web development vs data science classes different?\n",
    "\n",
    "    $H_0$: The average grades for webdev and data science are the same.\n",
    "    \n",
    "    $H_a$: The average grades for webdev and data science are not the same.\n",
    "    \n",
    "    \n",
    "- Is there a relationship between how early a student shows up to class and their grade?\n",
    "\n",
    "    $H_0$: there is no relationship between how early a student comes to class and their grade\n",
    "    \n",
    "    $H_a$: there is a relationship between how early a student comes to class and their grade\n",
    "\n"
   ]
  },
  {
   "cell_type": "markdown",
   "metadata": {},
   "source": [
    "> Are the plants in classroom helping?\n",
    "\n",
    "- survey scores\n",
    "    - $H_0$: Survey scores before and after plants were introduced are no different or lower.\n",
    "    - $H_a$: Survey scores improved after plants were introduced in the classroom.\n"
   ]
  },
  {
   "cell_type": "markdown",
   "metadata": {},
   "source": [
    "- True Positive\n",
    "    - small p-value -- < alpha (.001)\n",
    "    - reject $H_0$(The data shows that survey score did improve)\n",
    "    - avg survey score before plants: 3.2\n",
    "    - avg survey score after plants: 4.5\n",
    "- False Positive\n",
    "    - small p-value\n",
    "    - reject $H_0$\n",
    "    - we cancelled a quiz right before everyone took the surveys\n",
    "- True Negative\n",
    "    - higher p-value\n",
    "    - fail to reject $H_0$ ((we found no difference in survey scores)\n",
    "    - avg survey score before plants: 3.9\n",
    "    - avg survey score after plants: 4.1\n",
    "- False Negative\n",
    "    - higher p-value\n",
    "    - fail to reject $H_0$ \n",
    "    - avg survey score before plants: 3.5\n",
    "    - avg survey score after plants: 3.3\n",
    "    - everyone took the survey when they were in the middle of the tableau project"
   ]
  },
  {
   "cell_type": "markdown",
   "metadata": {},
   "source": [
    "---\n",
    "\n",
    "> Do houses with even street numbers sell for more money?\n"
   ]
  },
  {
   "cell_type": "markdown",
   "metadata": {},
   "source": [
    "- $H_0$: the property values for even numbered houses are the same or lower than the overall average property value\n",
    "- $H_a$: the property values for even numberd houses are higher than the overall average property value"
   ]
  },
  {
   "cell_type": "markdown",
   "metadata": {},
   "source": [
    "- True Positive\n",
    "    - low p-value\n",
    "    - reject $H_0$\n",
    "    - avg property value for even # houses -> \\$200,000\n",
    "    - avg property value overall -> \\$150,000\n",
    "- False Positive\n",
    "    - low p-value\n",
    "    - reject $H_0$\n",
    "    - a significant difference in property values\n",
    "    - we found the overall average property value from the county website\n",
    "    - we calculated the average property value for even # houses based on sampling the dominion\n",
    "- False Negative\n",
    "    - fail to reject $H_0$\n",
    "    - high p-value\n",
    "    - the average house price for even numbered houses is not higher than the overall average\n",
    "    - for example: response bias on an online survey\n",
    "- True Negative\n",
    "    - high p-value\n",
    "    - fail to reject $H_0$\n",
    "    - avg price for even # houses: \\$145,000\n",
    "    - overall avg house price: \\$140,000"
   ]
  },
  {
   "cell_type": "markdown",
   "metadata": {},
   "source": [
    "## Exercise Review"
   ]
  },
  {
   "cell_type": "markdown",
   "metadata": {},
   "source": [
    "> Has the network latency gone up since we switched ISPs?\n"
   ]
  },
  {
   "cell_type": "markdown",
   "metadata": {},
   "source": [
    "> Is the website redesign any good?\n"
   ]
  },
  {
   "cell_type": "markdown",
   "metadata": {},
   "source": [
    "> Is our TV ad driving more sales?\n"
   ]
  },
  {
   "cell_type": "code",
   "execution_count": null,
   "metadata": {},
   "outputs": [],
   "source": []
  }
 ],
 "metadata": {
  "kernelspec": {
   "display_name": "Python 3",
   "language": "python",
   "name": "python3"
  },
  "language_info": {
   "codemirror_mode": {
    "name": "ipython",
    "version": 3
   },
   "file_extension": ".py",
   "mimetype": "text/x-python",
   "name": "python",
   "nbconvert_exporter": "python",
   "pygments_lexer": "ipython3",
   "version": "3.8.5"
  }
 },
 "nbformat": 4,
 "nbformat_minor": 2
}
